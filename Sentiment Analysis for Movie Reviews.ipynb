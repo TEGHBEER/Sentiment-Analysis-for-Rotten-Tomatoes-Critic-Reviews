{
 "cells": [
  {
   "cell_type": "markdown",
   "metadata": {
    "id": "lv1bNvvt1yDw"
   },
   "source": [
    "# Dataset Overview\n",
    "\n",
    "## Source and Description\n",
    "The dataset used in this project is a collection of movie reviews from Rotten Tomatoes, featuring critic reviews, metadata, and associated sentiment information. This dataset is ideal for sentiment analysis tasks due to its rich textual content and structured attributes.\n",
    "\n",
    "## Key Features\n",
    "The dataset contains **957,050 rows** and **8 columns**, providing extensive data for analysis. Below is a detailed explanation of each column:\n",
    "\n",
    "1. **rotten_tomatoes_link**:  \n",
    "   - Contains unique links to Rotten Tomatoes pages for individual reviews.  \n",
    "   - Total unique values: 17,694  \n",
    "   - Example: `m/star_wars_the_rise_of_skywalker`  \n",
    "\n",
    "2. **critic_name**:  \n",
    "   - The name of the critic who wrote the review.  \n",
    "   - Total unique values: 10,433  \n",
    "   - Most frequent critic: *Emanuel Levy* (6,555 reviews).  \n",
    "   - Missing values: 16,682  \n",
    "\n",
    "3. **top_critic**:  \n",
    "   - A binary field indicating whether the critic is considered a \"Top Critic\" on Rotten Tomatoes.  \n",
    "   - Unique values: 4 (`True`, `False`, and possibly others).  \n",
    "   - Most frequent value: `False` (716,697 instances).  \n",
    "\n",
    "4. **publisher_name**:  \n",
    "   - The name of the publication where the review was published.  \n",
    "   - Total unique values: 2,198  \n",
    "   - Most frequent publisher: *New York Times* (10,829 reviews).  \n",
    "\n",
    "5. **review_type**:  \n",
    "   - The type of review provided (e.g., \"Fresh,\" \"Rotten\").  \n",
    "   - Total unique values: 45  \n",
    "   - Most frequent type: *Fresh* (591,912 reviews).  \n",
    "\n",
    "6. **review_score**:  \n",
    "   - The numerical score given to the movie by the critic.  \n",
    "   - Missing values: 250,895  \n",
    "   - Total unique values: 723  \n",
    "   - Most frequent score: `3/5` (76,390 instances).  \n",
    "\n",
    "7. **review_date**:  \n",
    "   - The date on which the review was published.  \n",
    "   - Total unique dates: 8,031  \n",
    "   - Oldest review: January 1, 2000  \n",
    "   - Most frequent date: January 1, 2000 (41,155 reviews).  \n",
    "\n",
    "8. **review_content**:  \n",
    "   - The actual text of the review, which serves as the primary input for sentiment analysis.  \n",
    "   - Total unique values: 728,606  \n",
    "   - Missing values: 61,944  \n",
    "\n",
    "\n"
   ]
  },
  {
   "cell_type": "markdown",
   "metadata": {
    "id": "v--3xEEnw9x5"
   },
   "source": [
    "#### Importing Required Libraries"
   ]
  },
  {
   "cell_type": "code",
   "execution_count": 1,
   "metadata": {
    "colab": {
     "base_uri": "https://localhost:8080/"
    },
    "id": "JhbyvxJwwn6g",
    "outputId": "42fefb60-1228-4f6c-a837-78254df7952f"
   },
   "outputs": [
    {
     "name": "stderr",
     "output_type": "stream",
     "text": [
      "[nltk_data] Downloading package vader_lexicon to\n",
      "[nltk_data]     C:\\Users\\subas\\AppData\\Roaming\\nltk_data...\n",
      "[nltk_data]   Package vader_lexicon is already up-to-date!\n"
     ]
    },
    {
     "data": {
      "text/plain": [
       "True"
      ]
     },
     "execution_count": 1,
     "metadata": {},
     "output_type": "execute_result"
    }
   ],
   "source": [
    "# Basic Libraries\n",
    "import pandas as pd\n",
    "import numpy as np\n",
    "\n",
    "# Text Preprocessing\n",
    "from nltk.sentiment.vader import SentimentIntensityAnalyzer\n",
    "from sklearn.feature_extraction.text import TfidfVectorizer\n",
    "from sklearn.model_selection import train_test_split\n",
    "from sklearn.linear_model import LogisticRegression\n",
    "from sklearn.metrics import classification_report, accuracy_score, confusion_matrix\n",
    "\n",
    "# Visualizations\n",
    "import seaborn as sns\n",
    "import matplotlib.pyplot as plt\n",
    "\n",
    "# NLTK Download\n",
    "import nltk\n",
    "nltk.download('vader_lexicon')\n"
   ]
  },
  {
   "cell_type": "markdown",
   "metadata": {
    "id": "cLcrklfCxFTb"
   },
   "source": [
    "#### 2. Load and Preporcess the Dataset"
   ]
  },
  {
   "cell_type": "code",
   "execution_count": 2,
   "metadata": {
    "id": "C6oJ2UxGxJaF"
   },
   "outputs": [],
   "source": [
    "# Load Dataset\n",
    "df = pd.read_csv('rotten_tomatoes_critic_reviews.csv', quoting=3, on_bad_lines='skip', dtype={2: object})\n",
    "# Added dtype={2: object} to specify column 2 as object type\n",
    "# on_bad_lines='skip' tells the parser to skip problematic lines\n",
    "# quoting=3 tells the parser to ignore quotes"
   ]
  },
  {
   "cell_type": "markdown",
   "metadata": {
    "id": "y-n5nXkK2kXY"
   },
   "source": [
    "# EDA"
   ]
  },
  {
   "cell_type": "code",
   "execution_count": 3,
   "metadata": {
    "colab": {
     "base_uri": "https://localhost:8080/"
    },
    "id": "OxwMB73dyLMz",
    "outputId": "2420762c-9849-4cda-e90c-3cbc1cb6b337"
   },
   "outputs": [
    {
     "name": "stdout",
     "output_type": "stream",
     "text": [
      "<class 'pandas.core.frame.DataFrame'>\n",
      "RangeIndex: 957050 entries, 0 to 957049\n",
      "Data columns (total 8 columns):\n",
      " #   Column                Non-Null Count   Dtype \n",
      "---  ------                --------------   ----- \n",
      " 0   rotten_tomatoes_link  957050 non-null  object\n",
      " 1   critic_name           940368 non-null  object\n",
      " 2   top_critic            957050 non-null  object\n",
      " 3   publisher_name        957050 non-null  object\n",
      " 4   review_type           957050 non-null  object\n",
      " 5   review_score          706155 non-null  object\n",
      " 6   review_date           953513 non-null  object\n",
      " 7   review_content        895106 non-null  object\n",
      "dtypes: object(8)\n",
      "memory usage: 58.4+ MB\n"
     ]
    }
   ],
   "source": [
    "df.info()"
   ]
  },
  {
   "cell_type": "code",
   "execution_count": 4,
   "metadata": {
    "colab": {
     "base_uri": "https://localhost:8080/"
    },
    "id": "MeunohJe0vYc",
    "outputId": "4ce3da9f-289e-43f0-e8bd-e44c34af1b3f"
   },
   "outputs": [
    {
     "data": {
      "text/plain": [
       "(957050, 8)"
      ]
     },
     "execution_count": 4,
     "metadata": {},
     "output_type": "execute_result"
    }
   ],
   "source": [
    "df.shape"
   ]
  },
  {
   "cell_type": "code",
   "execution_count": 5,
   "metadata": {
    "colab": {
     "base_uri": "https://localhost:8080/",
     "height": 175
    },
    "id": "FjqPYorbyN6R",
    "outputId": "c08a2cdc-78b0-4239-aed8-4913c5069827"
   },
   "outputs": [
    {
     "data": {
      "text/html": [
       "<div>\n",
       "<style scoped>\n",
       "    .dataframe tbody tr th:only-of-type {\n",
       "        vertical-align: middle;\n",
       "    }\n",
       "\n",
       "    .dataframe tbody tr th {\n",
       "        vertical-align: top;\n",
       "    }\n",
       "\n",
       "    .dataframe thead th {\n",
       "        text-align: right;\n",
       "    }\n",
       "</style>\n",
       "<table border=\"1\" class=\"dataframe\">\n",
       "  <thead>\n",
       "    <tr style=\"text-align: right;\">\n",
       "      <th></th>\n",
       "      <th>rotten_tomatoes_link</th>\n",
       "      <th>critic_name</th>\n",
       "      <th>top_critic</th>\n",
       "      <th>publisher_name</th>\n",
       "      <th>review_type</th>\n",
       "      <th>review_score</th>\n",
       "      <th>review_date</th>\n",
       "      <th>review_content</th>\n",
       "    </tr>\n",
       "  </thead>\n",
       "  <tbody>\n",
       "    <tr>\n",
       "      <th>count</th>\n",
       "      <td>957050</td>\n",
       "      <td>940368</td>\n",
       "      <td>957050</td>\n",
       "      <td>957050</td>\n",
       "      <td>957050</td>\n",
       "      <td>706155</td>\n",
       "      <td>953513</td>\n",
       "      <td>895106</td>\n",
       "    </tr>\n",
       "    <tr>\n",
       "      <th>unique</th>\n",
       "      <td>17694</td>\n",
       "      <td>10433</td>\n",
       "      <td>4</td>\n",
       "      <td>2198</td>\n",
       "      <td>45</td>\n",
       "      <td>723</td>\n",
       "      <td>8031</td>\n",
       "      <td>728606</td>\n",
       "    </tr>\n",
       "    <tr>\n",
       "      <th>top</th>\n",
       "      <td>m/star_wars_the_rise_of_skywalker</td>\n",
       "      <td>Emanuel Levy</td>\n",
       "      <td>False</td>\n",
       "      <td>New York Times</td>\n",
       "      <td>Fresh</td>\n",
       "      <td>3/5</td>\n",
       "      <td>2000-01-01</td>\n",
       "      <td>\"Unfortunately</td>\n",
       "    </tr>\n",
       "    <tr>\n",
       "      <th>freq</th>\n",
       "      <td>916</td>\n",
       "      <td>6555</td>\n",
       "      <td>716697</td>\n",
       "      <td>10829</td>\n",
       "      <td>591912</td>\n",
       "      <td>76390</td>\n",
       "      <td>41155</td>\n",
       "      <td>888</td>\n",
       "    </tr>\n",
       "  </tbody>\n",
       "</table>\n",
       "</div>"
      ],
      "text/plain": [
       "                     rotten_tomatoes_link   critic_name top_critic  \\\n",
       "count                              957050        940368     957050   \n",
       "unique                              17694         10433          4   \n",
       "top     m/star_wars_the_rise_of_skywalker  Emanuel Levy      False   \n",
       "freq                                  916          6555     716697   \n",
       "\n",
       "        publisher_name review_type review_score review_date  review_content  \n",
       "count           957050      957050       706155      953513          895106  \n",
       "unique            2198          45          723        8031          728606  \n",
       "top     New York Times       Fresh          3/5  2000-01-01  \"Unfortunately  \n",
       "freq             10829      591912        76390       41155             888  "
      ]
     },
     "execution_count": 5,
     "metadata": {},
     "output_type": "execute_result"
    }
   ],
   "source": [
    "df.describe()"
   ]
  },
  {
   "cell_type": "markdown",
   "metadata": {
    "id": "UdsgJRiO3Zhm"
   },
   "source": [
    "# Exploratory Data Analysis (EDA)\n",
    "\n",
    "## Dataset Overview\n",
    "\n",
    "The dataset used in this project is sourced from Rotten Tomatoes critic reviews. It contains detailed information about movie reviews, including the critic's name, publisher, review score, review date, and the review content itself. Below is a comprehensive summary of the dataset and insights gathered during the exploratory data analysis.\n",
    "\n",
    "### Key Features:\n",
    "1. **rotten_tomatoes_link**: A unique identifier for each movie review, linking to the corresponding Rotten Tomatoes page.\n",
    "2. **critic_name**: The name of the critic who reviewed the movie.\n",
    "3. **top_critic**: A boolean indicator (`True` or `False`) denoting whether the critic is a \"top critic.\"\n",
    "4. **publisher_name**: The publication or media outlet associated with the critic.\n",
    "5. **review_type**: Classification of the review as *Fresh* (positive) or *Rotten* (negative).\n",
    "6. **review_score**: The numerical score assigned to the movie (e.g., `3/5`).\n",
    "7. **review_date**: The date the review was published.\n",
    "8. **review_content**: The textual content of the review, providing detailed feedback about the movie.\n",
    "\n",
    "---\n",
    "\n",
    "## Dataset Dimensions\n",
    "\n",
    "Using the `df.shape` method, it was determined that the dataset contains **957,050 rows** and **8 columns**, indicating a substantial amount of data for analysis.\n",
    "\n",
    "---\n",
    "\n",
    "\n",
    "## Dataset Information\n",
    "\n",
    "The `df.info()` method provided a detailed summary of the dataset structure:\n",
    "\n",
    "### Observations:\n",
    "1. **Complete Columns**: Columns like `rotten_tomatoes_link`, `top_critic`, and `publisher_name` are fully populated with no missing values.\n",
    "2. **Missing Values**:\n",
    "   - `critic_name` has 16,682 missing entries.\n",
    "   - `review_score` has 250,895 missing entries.\n",
    "   - `review_content` has 61,944 missing entries.\n",
    "3. **Data Types**: All columns are of type `object`, indicating that text or categorical data predominates in this dataset.\n",
    "\n",
    "---\n",
    "\n",
    "## Summary Statistics\n",
    "\n",
    "Using the `df.describe()` method, the following insights were derived:\n",
    "\n",
    "| Column                 | Count   | Unique | Top                               | Frequency |\n",
    "|-------------------------|---------|--------|-----------------------------------|-----------|\n",
    "| **rotten_tomatoes_link** | 957,050 | 17,694 | `m/star_wars_the_rise_of_skywalker` | 916       |\n",
    "| **critic_name**         | 940,368 | 10,433 | *Emanuel Levy*                    | 6,555     |\n",
    "| **top_critic**          | 957,050 | 4      | `False`                           | 716,697   |\n",
    "| **publisher_name**      | 957,050 | 2,198  | *New York Times*                  | 10,829    |\n",
    "| **review_type**         | 957,050 | 45     | *Fresh*                           | 591,912   |\n",
    "| **review_score**        | 706,155 | 723    | `3/5`                             | 76,390    |\n",
    "| **review_date**         | 953,513 | 8,031  | `2000-01-01`                      | 41,155    |\n",
    "| **review_content**      | 895,106 | 728,606| N/A                               | 888       |\n",
    "\n",
    "### Observations:\n",
    "1. **Unique Values**:\n",
    "   - `rotten_tomatoes_link` has 17,694 unique movie review links.\n",
    "   - `critic_name` contains 10,433 unique critics, with *Emanuel Levy* being the most frequent (6,555 reviews).\n",
    "   - `review_type` shows 45 unique classifications, with *Fresh* being the most common (591,912 occurrences).\n",
    "   - `review_score` has 723 unique values, with `3/5` being the most frequent (76,390 occurrences).\n",
    "   - `review_date` spans 8,031 unique dates, with `2000-01-01` being the most frequent (41,155 reviews).\n",
    "2. **Most Reviewed Movie**: *Star Wars: The Rise of Skywalker* has the highest number of reviews (916).\n",
    "3. **Top Publication**: *New York Times* contributed the most reviews (10,829).\n",
    "4. **Imbalance in Data**:\n",
    "   - The `top_critic` column shows that 716,697 entries are marked as `False`, indicating that most reviews are from non-top critics.\n",
    "   - The `review_type` column is dominated by *Fresh* reviews.\n",
    "\n",
    "---\n",
    "\n",
    "## Insights from EDA\n",
    "\n",
    "1. **Textual Data**:\n",
    "   - The dataset's `review_content` column offers a rich source of text for sentiment analysis but has missing values that must be addressed.\n",
    "\n",
    "2. **Numeric Conversion**:\n",
    "   - The `review_score` column, though stored as `object`, contains numeric values (e.g., `3/5`) that require conversion for analysis.\n",
    "\n",
    "3. **Missing Data**:\n",
    "   - Key columns like `review_score` and `review_content` have missing values, necessitating imputation or removal strategies.\n",
    "   \n",
    "4. **Bias in Data**:\n",
    "   - Certain critics and publishers are overrepresented, which could influence sentiment analysis results.\n",
    "\n",
    "5. **Potential Applications**:\n",
    "   - The dataset is suitable for sentiment analysis, enabling comparisons between lexicon-based methods (e.g., VADER) and machine learning classifiers (e.g., Logistic Regression).\n",
    "\n",
    "This exploratory analysis provides a solid foundation for preprocessing and further analysis, ensuring data readiness for sentiment modeling and classification.\n",
    "\n",
    "\n"
   ]
  },
  {
   "cell_type": "markdown",
   "metadata": {
    "id": "zFQxvlHp3szX"
   },
   "source": []
  },
  {
   "cell_type": "code",
   "execution_count": 6,
   "metadata": {
    "colab": {
     "base_uri": "https://localhost:8080/",
     "height": 241
    },
    "id": "_WG160wJxOmz",
    "outputId": "2a159e10-4dc5-4bc8-982b-c50feaeec0ea"
   },
   "outputs": [
    {
     "name": "stdout",
     "output_type": "stream",
     "text": [
      "\n",
      "First 5 rows of the dataset:\n"
     ]
    },
    {
     "data": {
      "text/html": [
       "<div>\n",
       "<style scoped>\n",
       "    .dataframe tbody tr th:only-of-type {\n",
       "        vertical-align: middle;\n",
       "    }\n",
       "\n",
       "    .dataframe tbody tr th {\n",
       "        vertical-align: top;\n",
       "    }\n",
       "\n",
       "    .dataframe thead th {\n",
       "        text-align: right;\n",
       "    }\n",
       "</style>\n",
       "<table border=\"1\" class=\"dataframe\">\n",
       "  <thead>\n",
       "    <tr style=\"text-align: right;\">\n",
       "      <th></th>\n",
       "      <th>rotten_tomatoes_link</th>\n",
       "      <th>critic_name</th>\n",
       "      <th>top_critic</th>\n",
       "      <th>publisher_name</th>\n",
       "      <th>review_type</th>\n",
       "      <th>review_score</th>\n",
       "      <th>review_date</th>\n",
       "      <th>review_content</th>\n",
       "    </tr>\n",
       "  </thead>\n",
       "  <tbody>\n",
       "    <tr>\n",
       "      <th>0</th>\n",
       "      <td>m/0814255</td>\n",
       "      <td>Andrew L. Urban</td>\n",
       "      <td>False</td>\n",
       "      <td>Urban Cinefile</td>\n",
       "      <td>Fresh</td>\n",
       "      <td>NaN</td>\n",
       "      <td>2010-02-06</td>\n",
       "      <td>A fantasy adventure that fuses Greek mythology...</td>\n",
       "    </tr>\n",
       "    <tr>\n",
       "      <th>1</th>\n",
       "      <td>m/0814255</td>\n",
       "      <td>David Germain</td>\n",
       "      <td>True</td>\n",
       "      <td>Associated Press</td>\n",
       "      <td>Rotten</td>\n",
       "      <td>NaN</td>\n",
       "      <td>2010-02-10</td>\n",
       "      <td>It's more a list of ingredients than a movie-m...</td>\n",
       "    </tr>\n",
       "    <tr>\n",
       "      <th>2</th>\n",
       "      <td>m/0814255</td>\n",
       "      <td>Nick Schager</td>\n",
       "      <td>False</td>\n",
       "      <td>Slant Magazine</td>\n",
       "      <td>Rotten</td>\n",
       "      <td>1/4</td>\n",
       "      <td>2010-02-10</td>\n",
       "      <td>Harry Potter knockoffs don't come more transpa...</td>\n",
       "    </tr>\n",
       "    <tr>\n",
       "      <th>3</th>\n",
       "      <td>m/0814255</td>\n",
       "      <td>Joshua Tyler</td>\n",
       "      <td>False</td>\n",
       "      <td>CinemaBlend</td>\n",
       "      <td>Fresh</td>\n",
       "      <td>3/5</td>\n",
       "      <td>2010-02-11</td>\n",
       "      <td>The best thing you can say about Chris Columbu...</td>\n",
       "    </tr>\n",
       "    <tr>\n",
       "      <th>4</th>\n",
       "      <td>m/0814255</td>\n",
       "      <td>Peter Paras</td>\n",
       "      <td>False</td>\n",
       "      <td>E! Online</td>\n",
       "      <td>Rotten</td>\n",
       "      <td>C</td>\n",
       "      <td>2010-02-11</td>\n",
       "      <td>This cast is simply too generic. None of the y...</td>\n",
       "    </tr>\n",
       "  </tbody>\n",
       "</table>\n",
       "</div>"
      ],
      "text/plain": [
       "  rotten_tomatoes_link      critic_name top_critic    publisher_name  \\\n",
       "0            m/0814255  Andrew L. Urban      False    Urban Cinefile   \n",
       "1            m/0814255    David Germain       True  Associated Press   \n",
       "2            m/0814255     Nick Schager      False    Slant Magazine   \n",
       "3            m/0814255     Joshua Tyler      False       CinemaBlend   \n",
       "4            m/0814255      Peter Paras      False         E! Online   \n",
       "\n",
       "  review_type review_score review_date  \\\n",
       "0       Fresh          NaN  2010-02-06   \n",
       "1      Rotten          NaN  2010-02-10   \n",
       "2      Rotten          1/4  2010-02-10   \n",
       "3       Fresh          3/5  2010-02-11   \n",
       "4      Rotten            C  2010-02-11   \n",
       "\n",
       "                                      review_content  \n",
       "0  A fantasy adventure that fuses Greek mythology...  \n",
       "1  It's more a list of ingredients than a movie-m...  \n",
       "2  Harry Potter knockoffs don't come more transpa...  \n",
       "3  The best thing you can say about Chris Columbu...  \n",
       "4  This cast is simply too generic. None of the y...  "
      ]
     },
     "metadata": {},
     "output_type": "display_data"
    }
   ],
   "source": [
    "# Inspect the Dataset\n",
    "print(\"\\nFirst 5 rows of the dataset:\")\n",
    "display(df.head())  # Use display for tabular format"
   ]
  },
  {
   "cell_type": "code",
   "execution_count": 7,
   "metadata": {
    "colab": {
     "base_uri": "https://localhost:8080/"
    },
    "id": "JtA28v6HxOiD",
    "outputId": "ea8b1bcc-485d-4e1c-9744-135ec52c492e"
   },
   "outputs": [
    {
     "name": "stdout",
     "output_type": "stream",
     "text": [
      "\n",
      "Checking for missing values in important columns...\n",
      "Missing values in 'review_content': 61944\n",
      "Missing values in 'review_type': 0\n"
     ]
    }
   ],
   "source": [
    "# Check for Missing Values\n",
    "print(\"\\nChecking for missing values in important columns...\")\n",
    "missing_review_content = df['review_content'].isnull().sum()\n",
    "missing_review_type = df['review_type'].isnull().sum()\n",
    "print(f\"Missing values in 'review_content': {missing_review_content}\")\n",
    "print(f\"Missing values in 'review_type': {missing_review_type}\")"
   ]
  },
  {
   "cell_type": "code",
   "execution_count": 8,
   "metadata": {
    "id": "-15WINuqiZ8r"
   },
   "outputs": [],
   "source": [
    "# Drop Rows with Missing Values in Essential Columns\n",
    "# We only retain rows where 'review_content' and 'review_type' are present\n",
    "df = df.dropna(subset=['review_content', 'review_type'])"
   ]
  },
  {
   "cell_type": "code",
   "execution_count": 9,
   "metadata": {
    "colab": {
     "base_uri": "https://localhost:8080/"
    },
    "id": "ys524mCYiZ8r",
    "outputId": "fbaba4ba-fbb8-4f5d-cd57-e1df1a69261a"
   },
   "outputs": [
    {
     "name": "stdout",
     "output_type": "stream",
     "text": [
      "\n",
      "Data types of columns after dropping missing values:\n",
      "rotten_tomatoes_link    object\n",
      "critic_name             object\n",
      "top_critic              object\n",
      "publisher_name          object\n",
      "review_type             object\n",
      "review_score            object\n",
      "review_date             object\n",
      "review_content          object\n",
      "dtype: object\n"
     ]
    }
   ],
   "source": [
    "# Check the Data Types of Columns\n",
    "# Ensure 'review_type' is properly formatted as categorical data\n",
    "print(\"\\nData types of columns after dropping missing values:\")\n",
    "print(df.dtypes)"
   ]
  },
  {
   "cell_type": "code",
   "execution_count": 10,
   "metadata": {
    "colab": {
     "base_uri": "https://localhost:8080/"
    },
    "id": "5ZwUieITxOYX",
    "outputId": "a1bd0770-c0ad-473d-a5b4-bef0a3b2ab74"
   },
   "outputs": [
    {
     "name": "stdout",
     "output_type": "stream",
     "text": [
      "\n",
      "Encoding 'review_type' (Fresh -> 1, Rotten -> 0)...\n",
      "Warning: Some 'review_type' values could not be mapped to binary sentiments.\n"
     ]
    }
   ],
   "source": [
    "# Encode 'review_type' as Binary Sentiments\n",
    "# 'Fresh' -> 1 (positive sentiment), 'Rotten' -> 0 (negative sentiment)\n",
    "print(\"\\nEncoding 'review_type' (Fresh -> 1, Rotten -> 0)...\")\n",
    "df['review_type'] = df['review_type'].map({'Fresh': 1, 'Rotten': 0})\n",
    "\n",
    "# Validate Encoding\n",
    "if df['review_type'].isnull().sum() > 0:\n",
    "    print(\"Warning: Some 'review_type' values could not be mapped to binary sentiments.\")\n",
    "    df = df.dropna(subset=['review_type'])"
   ]
  },
  {
   "cell_type": "code",
   "execution_count": 11,
   "metadata": {
    "colab": {
     "base_uri": "https://localhost:8080/"
    },
    "id": "2h4x3gLGiZ8r",
    "outputId": "9410c38e-180c-49b5-ba8d-d13c04618589"
   },
   "outputs": [
    {
     "name": "stdout",
     "output_type": "stream",
     "text": [
      "\n",
      "Cleaned Dataset Info:\n",
      "<class 'pandas.core.frame.DataFrame'>\n",
      "Index: 872671 entries, 0 to 957049\n",
      "Data columns (total 8 columns):\n",
      " #   Column                Non-Null Count   Dtype  \n",
      "---  ------                --------------   -----  \n",
      " 0   rotten_tomatoes_link  872671 non-null  object \n",
      " 1   critic_name           864505 non-null  object \n",
      " 2   top_critic            872671 non-null  object \n",
      " 3   publisher_name        872671 non-null  object \n",
      " 4   review_type           872671 non-null  float64\n",
      " 5   review_score          622208 non-null  object \n",
      " 6   review_date           872671 non-null  object \n",
      " 7   review_content        872671 non-null  object \n",
      "dtypes: float64(1), object(7)\n",
      "memory usage: 59.9+ MB\n",
      "None\n"
     ]
    }
   ],
   "source": [
    "# Display Cleaned Dataset Info\n",
    "print(\"\\nCleaned Dataset Info:\")\n",
    "print(df.info())\n"
   ]
  },
  {
   "cell_type": "code",
   "execution_count": 12,
   "metadata": {
    "colab": {
     "base_uri": "https://localhost:8080/"
    },
    "id": "69zbaosspBaG",
    "outputId": "59480e70-a1e8-4d10-88fb-d53c4221574f"
   },
   "outputs": [
    {
     "name": "stdout",
     "output_type": "stream",
     "text": [
      "\n",
      "First 5 rows of the cleaned dataset:\n",
      "                                      review_content  review_type\n",
      "0  A fantasy adventure that fuses Greek mythology...          1.0\n",
      "1  It's more a list of ingredients than a movie-m...          0.0\n",
      "2  Harry Potter knockoffs don't come more transpa...          0.0\n",
      "3  The best thing you can say about Chris Columbu...          1.0\n",
      "4  This cast is simply too generic. None of the y...          0.0\n"
     ]
    }
   ],
   "source": [
    "# Preview Cleaned Data\n",
    "print(\"\\nFirst 5 rows of the cleaned dataset:\")\n",
    "print(df[['review_content', 'review_type']].head())"
   ]
  },
  {
   "cell_type": "code",
   "execution_count": 15,
   "metadata": {},
   "outputs": [
    {
     "data": {
      "image/png": "[encoded data removed]",
      "text/plain": [
       "<Figure size 1000x600 with 1 Axes>"
      ]
     },
     "metadata": {},
     "output_type": "display_data"
    },
    {
     "data": {
      "image/png": "[encoded data removed]",
      "text/plain": [
       "<Figure size 800x600 with 1 Axes>"
      ]
     },
     "metadata": {},
     "output_type": "display_data"
    }
   ],
   "source": [
    "# Analyze top publishers\n",
    "top_publishers = df['publisher_name'].value_counts().head(10)\n",
    "plt.figure(figsize=(10, 6))\n",
    "sns.barplot(x=top_publishers.values, y=top_publishers.index)\n",
    "plt.title(\"Top 10 Publishers by Review Count\")\n",
    "plt.xlabel(\"Number of Reviews\")\n",
    "plt.ylabel(\"Publisher Name\")\n",
    "plt.show()\n",
    "\n",
    "# Analyze review type distribution\n",
    "review_type_counts = df['review_type'].value_counts()\n",
    "plt.figure(figsize=(8, 6))\n",
    "sns.barplot(x=review_type_counts.index, y=review_type_counts.values)\n",
    "plt.title(\"Distribution of Review Types\")\n",
    "plt.xlabel(\"Review Type\")\n",
    "plt.ylabel(\"Count\")\n",
    "plt.show()\n",
    "\n"
   ]
  },
  {
   "cell_type": "code",
   "execution_count": 18,
   "metadata": {},
   "outputs": [
    {
     "data": {
      "image/png": "[encoded data removed]",
      "text/plain": [
       "<Figure size 1200x600 with 1 Axes>"
      ]
     },
     "metadata": {},
     "output_type": "display_data"
    }
   ],
   "source": [
    "# Count the number of reviews for each publisher categorized by review_type\n",
    "top_publishers_with_type = (\n",
    "    df[df['publisher_name'].isin(top_publishers.index)]\n",
    "    .groupby(['publisher_name', 'review_type'])\n",
    "    .size()\n",
    "    .reset_index(name='count')\n",
    ")\n",
    "\n",
    "# Pivot the data for better visualization and calculate the total reviews\n",
    "top_publishers_pivot = top_publishers_with_type.pivot(index='publisher_name', columns='review_type', values='count').fillna(0)\n",
    "top_publishers_pivot['Total'] = top_publishers_pivot.sum(axis=1)\n",
    "\n",
    "# Sort by total reviews\n",
    "top_publishers_sorted = top_publishers_pivot.sort_values('Total', ascending=False)\n",
    "\n",
    "# Plot grouped bar chart (vertical)\n",
    "top_publishers_sorted.drop(columns='Total').plot(kind='bar', stacked=False, figsize=(12, 6))\n",
    "plt.title(\"Top 10 Publishers by Review Count (Sorted by Total)\")\n",
    "plt.ylabel(\"Number of Reviews\")\n",
    "plt.xlabel(\"Publisher Name\")\n",
    "plt.legend(title=\"Review Type\", loc='upper right')\n",
    "plt.xticks(rotation=45, ha='right')  # Adjust rotation for readability\n",
    "plt.tight_layout()  # Adjust layout to fit all labels\n",
    "plt.show()\n"
   ]
  },
  {
   "cell_type": "markdown",
   "metadata": {
    "id": "tjvMsnrw4bw8"
   },
   "source": [
    "# Data Cleaning and Preprocessing\n",
    "\n",
    "## 1. Checking for Missing Values\n",
    "The dataset was initially inspected for missing values in two key columns: `review_content` and `review_type`. Missing values in these columns would need to be handled to ensure the quality of the data for subsequent analysis.\n",
    "\n",
    "### Missing Values in `review_content`:\n",
    "The column `review_content` contained 22,846 missing values. These rows were removed to ensure only complete review texts were included in the analysis.\n",
    "\n",
    "### Missing Values in `review_type`:\n",
    "There were no missing values found in the `review_type` column, so no action was needed for this column.\n",
    "\n",
    "## 2. Dropping Rows with Missing Values\n",
    "To maintain the integrity of the dataset, rows with missing values in either `review_content` or `review_type` were dropped. This resulted in a reduction of the dataset from 957,050 entries to 872,671 entries, ensuring that only complete records were retained.\n",
    "\n",
    "## 3. Encoding the `review_type` Column\n",
    "The `review_type` column, which contained categorical values ('Fresh' and 'Rotten'), was encoded into binary numerical values for further analysis.\n",
    "- 'Fresh' was mapped to 1 (positive sentiment).\n",
    "- 'Rotten' was mapped to 0 (negative sentiment).\n",
    "\n",
    "This encoding step made the dataset suitable for sentiment analysis and machine learning models that require numerical input.\n",
    "\n",
    "## 4. Validation of Encoding\n",
    "After encoding the `review_type` column, the dataset was checked to ensure that no missing values remained in this column. The validation confirmed that all sentiment labels were correctly encoded without any missing values.\n",
    "\n",
    "## 5. Preview of the Cleaned Data\n",
    "The first five rows of the cleaned dataset were displayed to visually inspect the changes. The `review_content` and `review_type` columns were confirmed to be correctly processed, with no missing values remaining.\n",
    "\n",
    "### Cleaned Dataset Preview:\n",
    "The cleaned dataset consists of 872,671 entries, with the following columns:\n",
    "- `review_content`: Contains the review text.\n",
    "- `review_type`: Contains the binary sentiment labels (1 for 'Fresh', 0 for 'Rotten').\n",
    "\n",
    "This cleaned dataset is now ready for further analysis, including sentiment analysis or machine learning model training.\n"
   ]
  },
  {
   "cell_type": "markdown",
   "metadata": {
    "id": "7FU3ovxCxY6g"
   },
   "source": [
    "#### 3. VADER Sentiment Analysis"
   ]
  },
  {
   "cell_type": "code",
   "execution_count": 29,
   "metadata": {
    "colab": {
     "base_uri": "https://localhost:8080/"
    },
    "id": "oPFtWrVE0i05",
    "outputId": "07d1bc78-0d53-4be6-aeeb-1386cd4245be"
   },
   "outputs": [],
   "source": [
    "# Initialize VADER Sentiment Analyzer\n",
    "vader = SentimentIntensityAnalyzer()"
   ]
  },
  {
   "cell_type": "code",
   "execution_count": 30,
   "metadata": {
    "colab": {
     "base_uri": "https://localhost:8080/",
     "height": 458
    },
    "id": "UX6wSWFI0iyQ",
    "outputId": "c6482b7b-f339-420d-92e2-1dbc82fba0f0"
   },
   "outputs": [],
   "source": [
    "# Apply VADER Sentiment Analysis on Review Content\n",
    "# This computes the sentiment scores for each review\n",
    "df['vader_score'] = df['review_content'].apply(lambda x: vader.polarity_scores(x)['compound'])"
   ]
  },
  {
   "cell_type": "code",
   "execution_count": 31,
   "metadata": {
    "colab": {
     "base_uri": "https://localhost:8080/",
     "height": 475
    },
    "id": "H4XLnimD0ivg",
    "outputId": "b0320855-0eaf-4a86-f116-adedfe09a9e8"
   },
   "outputs": [
    {
     "name": "stdout",
     "output_type": "stream",
     "text": [
      "Converting VADER compound scores to binary sentiments...\n"
     ]
    }
   ],
   "source": [
    "# Convert VADER Scores to Binary Sentiment Labels\n",
    "# Compound scores are in the range [-1, 1]. We classify them as:\n",
    "# Positive (1) if score >= 0, Negative (0) if score < 0.\n",
    "print(\"Converting VADER compound scores to binary sentiments...\")\n",
    "df['vader_pred'] = df['vader_score'].apply(lambda x: 1 if x >= 0 else 0)"
   ]
  },
  {
   "cell_type": "code",
   "execution_count": null,
   "metadata": {
    "colab": {
     "base_uri": "https://localhost:8080/"
    },
    "id": "0zKD-Sgq0itF",
    "outputId": "9bfc95aa-bb8c-4d7f-c142-69f497ef1c70"
   },
   "outputs": [],
   "source": []
  },
  {
   "cell_type": "code",
   "execution_count": 32,
   "metadata": {
    "id": "nYplMPi50iqc"
   },
   "outputs": [],
   "source": [
    "# Handle missing or invalid data (if any)\n",
    "if df['review_type'].isnull().any():\n",
    "    print(\"Warning: Missing values detected in 'review_type'. These rows will be dropped.\")\n",
    "    df = df.dropna(subset=['review_type'])\n",
    "if df['vader_pred'].isnull().any():\n",
    "    print(\"Warning: Missing values detected in 'vader_pred'. These rows will be dropped.\")\n",
    "    df = df.dropna(subset=['vader_pred'])"
   ]
  },
  {
   "cell_type": "code",
   "execution_count": 33,
   "metadata": {
    "id": "cgKiTuyL0inw"
   },
   "outputs": [],
   "source": [
    "# Ensure both columns are integers for evaluation\n",
    "df['review_type'] = df['review_type'].astype(int)\n",
    "df['vader_pred'] = df['vader_pred'].astype(int)"
   ]
  },
  {
   "cell_type": "code",
   "execution_count": 34,
   "metadata": {
    "colab": {
     "base_uri": "https://localhost:8080/"
    },
    "id": "CraGAvNd0ik2",
    "outputId": "6510c83a-dd05-43e3-e7f3-0ae7eafb33bc"
   },
   "outputs": [
    {
     "name": "stdout",
     "output_type": "stream",
     "text": [
      "VADER Sentiment Analysis Report:\n",
      "              precision    recall  f1-score   support\n",
      "\n",
      "           0       0.51      0.31      0.39    317427\n",
      "           1       0.68      0.83      0.74    555244\n",
      "\n",
      "    accuracy                           0.64    872671\n",
      "   macro avg       0.59      0.57      0.57    872671\n",
      "weighted avg       0.62      0.64      0.61    872671\n",
      "\n"
     ]
    }
   ],
   "source": [
    "# Generate Classification Report\n",
    "print(\"VADER Sentiment Analysis Report:\")\n",
    "print(classification_report(df['review_type'], df['vader_pred']))"
   ]
  },
  {
   "cell_type": "code",
   "execution_count": 35,
   "metadata": {
    "colab": {
     "base_uri": "https://localhost:8080/"
    },
    "id": "QkfKKXBU0iee",
    "outputId": "1943781b-3dec-4b9a-903b-545bf5b0dd9a"
   },
   "outputs": [
    {
     "name": "stdout",
     "output_type": "stream",
     "text": [
      "VADER Model Accuracy: 0.64\n"
     ]
    }
   ],
   "source": [
    "# Display Overall Accuracy\n",
    "accuracy = accuracy_score(df['review_type'], df['vader_pred'])\n",
    "print(f\"VADER Model Accuracy: {accuracy:.2f}\")"
   ]
  },
  {
   "cell_type": "code",
   "execution_count": 36,
   "metadata": {
    "colab": {
     "base_uri": "https://localhost:8080/"
    },
    "id": "uAPnpwvW0iNu",
    "outputId": "5afe02e4-53c2-4bdc-b374-b88f01c9c4bd"
   },
   "outputs": [
    {
     "name": "stdout",
     "output_type": "stream",
     "text": [
      "\n",
      "Sample of transformed DataFrame:\n",
      "                                      review_content  review_type  \\\n",
      "0  A fantasy adventure that fuses Greek mythology...            1   \n",
      "1  It's more a list of ingredients than a movie-m...            0   \n",
      "2  Harry Potter knockoffs don't come more transpa...            0   \n",
      "3  The best thing you can say about Chris Columbu...            1   \n",
      "4  This cast is simply too generic. None of the y...            0   \n",
      "\n",
      "   vader_score  vader_pred  \n",
      "0       0.7579           1  \n",
      "1       0.4939           1  \n",
      "2       0.0000           1  \n",
      "3      -0.2500           0  \n",
      "4       0.0000           1  \n"
     ]
    }
   ],
   "source": [
    "# Check the first few rows to confirm the transformations\n",
    "print(\"\\nSample of transformed DataFrame:\")\n",
    "print(df[['review_content', 'review_type', 'vader_score', 'vader_pred']].head())"
   ]
  },
  {
   "cell_type": "code",
   "execution_count": 118,
   "metadata": {},
   "outputs": [
    {
     "data": {
      "image/png": "[encoded data removed]",
      "text/plain": [
       "<Figure size 800x600 with 2 Axes>"
      ]
     },
     "metadata": {},
     "output_type": "display_data"
    }
   ],
   "source": [
    "import matplotlib.pyplot as plt\n",
    "import seaborn as sns\n",
    "from sklearn.metrics import confusion_matrix\n",
    "\n",
    "# Compute confusion matrix\n",
    "conf_matrix = confusion_matrix(df['review_type'], df['vader_pred'])\n",
    "\n",
    "# Plot confusion matrix\n",
    "plt.figure(figsize=(8, 6))\n",
    "sns.heatmap(conf_matrix, annot=True, fmt='d', cmap='Blues', xticklabels=['Negative', 'Positive'], yticklabels=['Negative', 'Positive'])\n",
    "plt.xlabel('Predicted Sentiment')\n",
    "plt.ylabel('Actual Sentiment')\n",
    "plt.title('Confusion Matrix for VADER Sentiment Analysis')\n",
    "plt.show()\n"
   ]
  },
  {
   "cell_type": "markdown",
   "metadata": {
    "id": "BLutStnx7-7d"
   },
   "source": [
    "# Sentiment Analysis with VADER\n",
    "\n",
    "## 1. Initializing VADER Sentiment Analyzer\n",
    "VADER (Valence Aware Dictionary and sEntiment Reasoner) is a pre-trained sentiment analysis tool that works well for texts in social media, such as movie reviews. The `SentimentIntensityAnalyzer` from the `vaderSentiment` library was initialized to analyze the sentiment of review content.\n",
    "\n",
    "## 2. Applying VADER Sentiment Analysis\n",
    "The `VADER` sentiment analysis was applied to the `review_content` column of the dataset to calculate the compound sentiment score for each review. The `compound` score ranges from -1 to 1, where:\n",
    "- Scores closer to 1 indicate positive sentiment.\n",
    "- Scores closer to -1 indicate negative sentiment.\n",
    "- Scores around 0 indicate neutral sentiment.\n",
    "\n",
    "The computed compound scores were added to a new column called `vader_score`.\n",
    "\n",
    "## 3. Converting VADER Scores to Binary Sentiments\n",
    "The compound scores were then converted into binary sentiment labels:\n",
    "- A score greater than or equal to 0 was classified as positive sentiment (1).\n",
    "- A score less than 0 was classified as negative sentiment (0).\n",
    "\n",
    "The result of this conversion was stored in a new column `vader_pred`, which contains the binary sentiment predictions for each review.\n",
    "\n",
    "## 4. Handling Missing Data\n",
    "Any rows with missing values in the `review_type` or `vader_pred` columns were dropped to ensure the integrity of the dataset for analysis. This step ensured that the columns had no missing data before further evaluation.\n",
    "\n",
    "## 5. Ensuring Integer Data Types\n",
    "The columns `review_type` and `vader_pred` were converted to integers to facilitate further analysis and ensure compatibility with evaluation metrics.\n",
    "\n",
    "## 6. Classification Report\n",
    "A classification report was generated using the `classification_report` function from scikit-learn, comparing the true sentiments (`review_type`) with the predicted sentiments (`vader_pred`). The results included key metrics such as precision, recall, f1-score, and support for both classes (positive and negative sentiment).\n",
    "\n",
    "### Classification Report:\n",
    "\n",
    "          precision    recall  f1-score   support\n",
    "       0       0.54      0.34      0.42     70961\n",
    "       1       0.67      0.82      0.74    115136\n",
    "\n",
    "accuracy                           0.64    186097\n",
    "\n",
    "\n",
    "- **Precision** indicates how many of the predicted positive (1) or negative (0) sentiments were actually correct.\n",
    "- **Recall** shows how many of the actual sentiments were correctly identified.\n",
    "- **F1-score** is the harmonic mean of precision and recall, providing a balance between the two.\n",
    "\n",
    "From the report:\n",
    "- The model performs relatively better on predicting positive reviews (1) with higher recall and f1-score.\n",
    "- The model's performance on negative reviews (0) is lower, as indicated by the lower recall and f1-score.\n",
    "\n",
    "## 7. Model Accuracy\n",
    "The overall accuracy of the VADER sentiment analysis model was calculated using the `accuracy_score` function. The model achieved an accuracy of approximately **64%** in predicting the sentiment of the reviews.\n",
    "\n",
    "\n",
    "\n",
    "## 8. Sample of Transformed Data\n",
    "A sample of the transformed dataset was displayed to confirm the changes. This included the `review_content`, `review_type`, `vader_score`, and `vader_pred` columns, allowing for a preview of the sentiment analysis results.\n",
    "\n",
    "### Sample of Transformed Data:\n",
    "| review_content                                                                 | review_type | vader_score | vader_pred |\n",
    "|---------------------------------------------------------------------------------|-------------|-------------|------------|\n",
    "| A fantasy adventure that fuses Greek mythology...                              | 1           | 0.7579      | 1          |\n",
    "| It's more a list of ingredients than a movie-m...                               | 0           | 0.4939      | 1          |\n",
    "| Harry Potter knockoffs don't come more transparent...                          | 0           | 0.0000      | 1          |\n",
    "| The best thing you can say about Chris Columbus'...                             | 1           | -0.2500     | 0          |\n",
    "| This cast is simply too generic. None of the...                                 | 0           | 0.0000      | 1          |\n",
    "\n",
    "The dataset is now ready for further analysis or model training, using the sentiment predictions generated by VADER for sentiment classification tasks.\n"
   ]
  },
  {
   "cell_type": "markdown",
   "metadata": {
    "id": "6PLVGBJaxuG4"
   },
   "source": [
    "#### 4. Feature Extraction for Logistic Regression (TF-IDF)"
   ]
  },
  {
   "cell_type": "code",
   "execution_count": 39,
   "metadata": {
    "id": "vsfMDbQ13_jZ"
   },
   "outputs": [],
   "source": [
    "from sklearn.preprocessing import LabelEncoder"
   ]
  },
  {
   "cell_type": "code",
   "execution_count": 40,
   "metadata": {
    "id": "rTfEKa783_hd"
   },
   "outputs": [],
   "source": [
    "# Encode Target Variable (if not already numeric)\n",
    "if df['review_type'].dtype == 'object':\n",
    "    le = LabelEncoder()\n",
    "    df['review_type'] = le.fit_transform(df['review_type'])\n",
    "    print(f\"Classes in Target Variable: {list(le.classes_)}\")  # Display class mapping"
   ]
  },
  {
   "cell_type": "code",
   "execution_count": 41,
   "metadata": {
    "id": "NYNGqTii4J-c"
   },
   "outputs": [],
   "source": [
    "# Initialize TF-IDF Vectorizer\n",
    "tfidf = TfidfVectorizer(\n",
    "    max_features=5000,  # Limit vocabulary size\n",
    "    stop_words='english',  # Remove common English stopwords\n",
    "    ngram_range=(1, 2),  # Use both unigrams and bigrams\n",
    "    max_df=0.7,  # Ignore terms in more than 70% of documents\n",
    "    min_df=5,  # Ignore terms in fewer than 5 documents\n",
    ")"
   ]
  },
  {
   "cell_type": "code",
   "execution_count": 42,
   "metadata": {
    "colab": {
     "base_uri": "https://localhost:8080/"
    },
    "id": "Tvvme55O4J79",
    "outputId": "02ec76ff-3450-4951-a47c-2452b07214d6"
   },
   "outputs": [],
   "source": [
    "# Fit and Transform TF-IDF on Review Content\n",
    "X = tfidf.fit_transform(df['review_content']).toarray()"
   ]
  },
  {
   "cell_type": "code",
   "execution_count": 43,
   "metadata": {
    "colab": {
     "base_uri": "https://localhost:8080/"
    },
    "id": "w1GgU85s4J5l",
    "outputId": "fac2f1ab-eb7c-4931-ea7f-d3b4ac3253c0"
   },
   "outputs": [
    {
     "name": "stdout",
     "output_type": "stream",
     "text": [
      "Number of Features Extracted: 5000\n",
      "Sample Features: ['10' '100' '11' '12' '13' '15' '1950s' '1960s' '1970s' '1980s']\n"
     ]
    }
   ],
   "source": [
    "# Extract Features and Display Important Words\n",
    "feature_names = tfidf.get_feature_names_out()\n",
    "print(f\"Number of Features Extracted: {len(feature_names)}\")\n",
    "print(f\"Sample Features: {feature_names[:10]}\")  # Display a sample of the vocabulary"
   ]
  },
  {
   "cell_type": "code",
   "execution_count": 44,
   "metadata": {
    "colab": {
     "base_uri": "https://localhost:8080/"
    },
    "id": "GtnkkygN4J3C",
    "outputId": "1a7d631a-8e4d-4451-8548-5192260df9ce"
   },
   "outputs": [
    {
     "name": "stdout",
     "output_type": "stream",
     "text": [
      "TF-IDF Feature Matrix Shape: (872671, 5000)\n"
     ]
    }
   ],
   "source": [
    "# Target Variable\n",
    "y = df['review_type']\n",
    "\n",
    "# Split Data into Training and Testing Sets\n",
    "X_train, X_test, y_train, y_test = train_test_split(\n",
    "    X, y,\n",
    "    test_size=0.2,  # Use 20% of the data for testing\n",
    "    random_state=42,  # Ensure reproducibility\n",
    "    stratify=y  # Maintain class distribution\n",
    ")\n",
    "\n",
    "print(\"TF-IDF Feature Matrix Shape:\", X.shape)"
   ]
  },
  {
   "cell_type": "code",
   "execution_count": 45,
   "metadata": {
    "colab": {
     "base_uri": "https://localhost:8080/"
    },
    "id": "PEnkiC_c4J0J",
    "outputId": "8e6fd86e-8eff-4c96-a859-03d50301e605"
   },
   "outputs": [
    {
     "name": "stdout",
     "output_type": "stream",
     "text": [
      "Training Data Shape: (698136, 5000)\n",
      "Testing Data Shape: (174535, 5000)\n",
      "Class Distribution in Training Data: [253941 444195]\n",
      "Class Distribution in Testing Data: [ 63486 111049]\n"
     ]
    }
   ],
   "source": [
    "# Display Dataset Statistics\n",
    "print(f\"Training Data Shape: {X_train.shape}\")\n",
    "print(f\"Testing Data Shape: {X_test.shape}\")\n",
    "print(f\"Class Distribution in Training Data: {np.bincount(y_train)}\")\n",
    "print(f\"Class Distribution in Testing Data: {np.bincount(y_test)}\")"
   ]
  },
  {
   "cell_type": "markdown",
   "metadata": {
    "id": "WIMVkrdG84C9"
   },
   "source": [
    "# Feature Extraction for Logistic Regression (TF-IDF)\n",
    "\n",
    "## 1. Encoding the Target Variable\n",
    "Before applying machine learning models, the target variable `review_type` was encoded into numeric format using `LabelEncoder` if it was not already numeric. This encoding helps in transforming categorical labels into integers, which are suitable for modeling. The target variable is binary (positive or negative sentiment), so it was encoded as `0` and `1`.\n",
    "\n",
    "### Classes in Target Variable:\n",
    "The classes of the target variable were displayed after encoding, ensuring that the transformation was performed correctly.\n",
    "\n",
    "## 2. Initializing TF-IDF Vectorizer\n",
    "The `TfidfVectorizer` was initialized to extract features from the review content. The settings used for the vectorizer are as follows:\n",
    "- **max_features=5000**: The vocabulary was limited to 5000 most frequent words.\n",
    "- **stop_words='english'**: Common English stopwords were removed.\n",
    "- **ngram_range=(1, 2)**: Both unigrams (single words) and bigrams (two consecutive words) were considered as features.\n",
    "- **max_df=0.7**: Words that appeared in more than 70% of the documents were ignored to reduce common words that do not carry much information.\n",
    "- **min_df=5**: Words that appeared in fewer than 5 documents were also ignored, which helps eliminate rare words that are not useful for the model.\n",
    "\n",
    "## 3. Transforming the Review Content Using TF-IDF\n",
    "The `TfidfVectorizer` was applied to the `review_content` column to create a feature matrix. This matrix contains the TF-IDF (Term Frequency-Inverse Document Frequency) values for each word or bigram in the review content.\n",
    "\n",
    "### Number of Features Extracted:\n",
    "- The total number of features (unique terms or n-grams) extracted from the review content was **5000**.\n",
    "\n",
    "\n",
    "## 4. Splitting the Data into Training and Testing Sets\n",
    "The dataset was split into training and testing sets to evaluate the model's performance:\n",
    "- **Training Data**: 80% of the dataset was used for training the model.\n",
    "- **Testing Data**: 20% of the dataset was reserved for testing the model.\n",
    "\n",
    "The split was performed using `train_test_split`, ensuring the class distribution in both the training and testing sets was similar (stratified split).\n",
    "\n",
    "### Dataset Statistics:\n",
    "- **Feature Matrix Shape**: The shape of the TF-IDF feature matrix is **(186097, 5000)**, indicating there are 186,097 reviews and 5,000 unique features (words or n-grams).\n",
    "- **Training Data Shape**: The training data contains **148,877 reviews** with 5,000 features.\n",
    "- **Testing Data Shape**: The testing data contains **37,220 reviews** with 5,000 features.\n",
    "\n",
    "### Class Distribution:\n",
    "- **Training Data**: The training data contains **56,769 negative** reviews (0) and **92,108 positive** reviews (1).\n",
    "- **Testing Data**: The testing data contains **14,192 negative** reviews (0) and **23,028 positive** reviews (1).\n",
    "\n",
    "These statistics indicate that the dataset is imbalanced, with more positive reviews (1) than negative reviews (0).\n",
    "\n",
    "\n",
    "At this stage, the data has been preprocessed:\n",
    "- The target variable `review_type` has been encoded into numeric labels.\n",
    "- The review content has been transformed into a TF-IDF feature matrix.\n",
    "- The dataset has been split into training and testing sets with a stratified distribution of sentiment labels.\n",
    "This data is now ready for model training and evaluation.\n",
    "\n"
   ]
  },
  {
   "cell_type": "markdown",
   "metadata": {
    "id": "xfopd1wbyHOe"
   },
   "source": [
    "#### 5. Logistic Regression"
   ]
  },
  {
   "cell_type": "code",
   "execution_count": 48,
   "metadata": {
    "id": "6Fmavw37unlO"
   },
   "outputs": [],
   "source": [
    "from sklearn.linear_model import LogisticRegression\n",
    "from sklearn.metrics import classification_report, confusion_matrix, accuracy_score\n",
    "import seaborn as sns\n",
    "import matplotlib.pyplot as plt"
   ]
  },
  {
   "cell_type": "code",
   "execution_count": 49,
   "metadata": {
    "id": "c7vvxOwSuoF8"
   },
   "outputs": [],
   "source": [
    "# Initialize Logistic Regression Model with Optimizations\n",
    "logreg = LogisticRegression(\n",
    "    max_iter=200,  # Reduce iterations to a reasonable number (default is 100)\n",
    "    solver='saga',  # Use 'saga' for large sparse datasets (fast convergence)\n",
    "    penalty='l2',  # L2 regularization for better performance\n",
    "    n_jobs=-1  # Use all available cores for parallelization\n",
    ")"
   ]
  },
  {
   "cell_type": "code",
   "execution_count": 50,
   "metadata": {
    "colab": {
     "base_uri": "https://localhost:8080/",
     "height": 97
    },
    "id": "2T5ScrkzuoDd",
    "outputId": "01be9de7-875d-471d-d7a1-a76f981acc7c"
   },
   "outputs": [
    {
     "name": "stdout",
     "output_type": "stream",
     "text": [
      "Training Logistic Regression Model...\n"
     ]
    },
    {
     "data": {
      "text/html": [
       "<style>#sk-container-id-1 {\n",
       "  /* Definition of color scheme common for light and dark mode */\n",
       "  --sklearn-color-text: black;\n",
       "  --sklearn-color-line: gray;\n",
       "  /* Definition of color scheme for unfitted estimators */\n",
       "  --sklearn-color-unfitted-level-0: #fff5e6;\n",
       "  --sklearn-color-unfitted-level-1: #f6e4d2;\n",
       "  --sklearn-color-unfitted-level-2: #ffe0b3;\n",
       "  --sklearn-color-unfitted-level-3: chocolate;\n",
       "  /* Definition of color scheme for fitted estimators */\n",
       "  --sklearn-color-fitted-level-0: #f0f8ff;\n",
       "  --sklearn-color-fitted-level-1: #d4ebff;\n",
       "  --sklearn-color-fitted-level-2: #b3dbfd;\n",
       "  --sklearn-color-fitted-level-3: cornflowerblue;\n",
       "\n",
       "  /* Specific color for light theme */\n",
       "  --sklearn-color-text-on-default-background: var(--sg-text-color, var(--theme-code-foreground, var(--jp-content-font-color1, black)));\n",
       "  --sklearn-color-background: var(--sg-background-color, var(--theme-background, var(--jp-layout-color0, white)));\n",
       "  --sklearn-color-border-box: var(--sg-text-color, var(--theme-code-foreground, var(--jp-content-font-color1, black)));\n",
       "  --sklearn-color-icon: #696969;\n",
       "\n",
       "  @media (prefers-color-scheme: dark) {\n",
       "    /* Redefinition of color scheme for dark theme */\n",
       "    --sklearn-color-text-on-default-background: var(--sg-text-color, var(--theme-code-foreground, var(--jp-content-font-color1, white)));\n",
       "    --sklearn-color-background: var(--sg-background-color, var(--theme-background, var(--jp-layout-color0, #111)));\n",
       "    --sklearn-color-border-box: var(--sg-text-color, var(--theme-code-foreground, var(--jp-content-font-color1, white)));\n",
       "    --sklearn-color-icon: #878787;\n",
       "  }\n",
       "}\n",
       "\n",
       "#sk-container-id-1 {\n",
       "  color: var(--sklearn-color-text);\n",
       "}\n",
       "\n",
       "#sk-container-id-1 pre {\n",
       "  padding: 0;\n",
       "}\n",
       "\n",
       "#sk-container-id-1 input.sk-hidden--visually {\n",
       "  border: 0;\n",
       "  clip: rect(1px 1px 1px 1px);\n",
       "  clip: rect(1px, 1px, 1px, 1px);\n",
       "  height: 1px;\n",
       "  margin: -1px;\n",
       "  overflow: hidden;\n",
       "  padding: 0;\n",
       "  position: absolute;\n",
       "  width: 1px;\n",
       "}\n",
       "\n",
       "#sk-container-id-1 div.sk-dashed-wrapped {\n",
       "  border: 1px dashed var(--sklearn-color-line);\n",
       "  margin: 0 0.4em 0.5em 0.4em;\n",
       "  box-sizing: border-box;\n",
       "  padding-bottom: 0.4em;\n",
       "  background-color: var(--sklearn-color-background);\n",
       "}\n",
       "\n",
       "#sk-container-id-1 div.sk-container {\n",
       "  /* jupyter's `normalize.less` sets `[hidden] { display: none; }`\n",
       "     but bootstrap.min.css set `[hidden] { display: none !important; }`\n",
       "     so we also need the `!important` here to be able to override the\n",
       "     default hidden behavior on the sphinx rendered scikit-learn.org.\n",
       "     See: https://github.com/scikit-learn/scikit-learn/issues/21755 */\n",
       "  display: inline-block !important;\n",
       "  position: relative;\n",
       "}\n",
       "\n",
       "#sk-container-id-1 div.sk-text-repr-fallback {\n",
       "  display: none;\n",
       "}\n",
       "\n",
       "div.sk-parallel-item,\n",
       "div.sk-serial,\n",
       "div.sk-item {\n",
       "  /* draw centered vertical line to link estimators */\n",
       "  background-image: linear-gradient(var(--sklearn-color-text-on-default-background), var(--sklearn-color-text-on-default-background));\n",
       "  background-size: 2px 100%;\n",
       "  background-repeat: no-repeat;\n",
       "  background-position: center center;\n",
       "}\n",
       "\n",
       "/* Parallel-specific style estimator block */\n",
       "\n",
       "#sk-container-id-1 div.sk-parallel-item::after {\n",
       "  content: \"\";\n",
       "  width: 100%;\n",
       "  border-bottom: 2px solid var(--sklearn-color-text-on-default-background);\n",
       "  flex-grow: 1;\n",
       "}\n",
       "\n",
       "#sk-container-id-1 div.sk-parallel {\n",
       "  display: flex;\n",
       "  align-items: stretch;\n",
       "  justify-content: center;\n",
       "  background-color: var(--sklearn-color-background);\n",
       "  position: relative;\n",
       "}\n",
       "\n",
       "#sk-container-id-1 div.sk-parallel-item {\n",
       "  display: flex;\n",
       "  flex-direction: column;\n",
       "}\n",
       "\n",
       "#sk-container-id-1 div.sk-parallel-item:first-child::after {\n",
       "  align-self: flex-end;\n",
       "  width: 50%;\n",
       "}\n",
       "\n",
       "#sk-container-id-1 div.sk-parallel-item:last-child::after {\n",
       "  align-self: flex-start;\n",
       "  width: 50%;\n",
       "}\n",
       "\n",
       "#sk-container-id-1 div.sk-parallel-item:only-child::after {\n",
       "  width: 0;\n",
       "}\n",
       "\n",
       "/* Serial-specific style estimator block */\n",
       "\n",
       "#sk-container-id-1 div.sk-serial {\n",
       "  display: flex;\n",
       "  flex-direction: column;\n",
       "  align-items: center;\n",
       "  background-color: var(--sklearn-color-background);\n",
       "  padding-right: 1em;\n",
       "  padding-left: 1em;\n",
       "}\n",
       "\n",
       "\n",
       "/* Toggleable style: style used for estimator/Pipeline/ColumnTransformer box that is\n",
       "clickable and can be expanded/collapsed.\n",
       "- Pipeline and ColumnTransformer use this feature and define the default style\n",
       "- Estimators will overwrite some part of the style using the `sk-estimator` class\n",
       "*/\n",
       "\n",
       "/* Pipeline and ColumnTransformer style (default) */\n",
       "\n",
       "#sk-container-id-1 div.sk-toggleable {\n",
       "  /* Default theme specific background. It is overwritten whether we have a\n",
       "  specific estimator or a Pipeline/ColumnTransformer */\n",
       "  background-color: var(--sklearn-color-background);\n",
       "}\n",
       "\n",
       "/* Toggleable label */\n",
       "#sk-container-id-1 label.sk-toggleable__label {\n",
       "  cursor: pointer;\n",
       "  display: block;\n",
       "  width: 100%;\n",
       "  margin-bottom: 0;\n",
       "  padding: 0.5em;\n",
       "  box-sizing: border-box;\n",
       "  text-align: center;\n",
       "}\n",
       "\n",
       "#sk-container-id-1 label.sk-toggleable__label-arrow:before {\n",
       "  /* Arrow on the left of the label */\n",
       "  content: \"▸\";\n",
       "  float: left;\n",
       "  margin-right: 0.25em;\n",
       "  color: var(--sklearn-color-icon);\n",
       "}\n",
       "\n",
       "#sk-container-id-1 label.sk-toggleable__label-arrow:hover:before {\n",
       "  color: var(--sklearn-color-text);\n",
       "}\n",
       "\n",
       "/* Toggleable content - dropdown */\n",
       "\n",
       "#sk-container-id-1 div.sk-toggleable__content {\n",
       "  max-height: 0;\n",
       "  max-width: 0;\n",
       "  overflow: hidden;\n",
       "  text-align: left;\n",
       "  /* unfitted */\n",
       "  background-color: var(--sklearn-color-unfitted-level-0);\n",
       "}\n",
       "\n",
       "#sk-container-id-1 div.sk-toggleable__content.fitted {\n",
       "  /* fitted */\n",
       "  background-color: var(--sklearn-color-fitted-level-0);\n",
       "}\n",
       "\n",
       "#sk-container-id-1 div.sk-toggleable__content pre {\n",
       "  margin: 0.2em;\n",
       "  border-radius: 0.25em;\n",
       "  color: var(--sklearn-color-text);\n",
       "  /* unfitted */\n",
       "  background-color: var(--sklearn-color-unfitted-level-0);\n",
       "}\n",
       "\n",
       "#sk-container-id-1 div.sk-toggleable__content.fitted pre {\n",
       "  /* unfitted */\n",
       "  background-color: var(--sklearn-color-fitted-level-0);\n",
       "}\n",
       "\n",
       "#sk-container-id-1 input.sk-toggleable__control:checked~div.sk-toggleable__content {\n",
       "  /* Expand drop-down */\n",
       "  max-height: 200px;\n",
       "  max-width: 100%;\n",
       "  overflow: auto;\n",
       "}\n",
       "\n",
       "#sk-container-id-1 input.sk-toggleable__control:checked~label.sk-toggleable__label-arrow:before {\n",
       "  content: \"▾\";\n",
       "}\n",
       "\n",
       "/* Pipeline/ColumnTransformer-specific style */\n",
       "\n",
       "#sk-container-id-1 div.sk-label input.sk-toggleable__control:checked~label.sk-toggleable__label {\n",
       "  color: var(--sklearn-color-text);\n",
       "  background-color: var(--sklearn-color-unfitted-level-2);\n",
       "}\n",
       "\n",
       "#sk-container-id-1 div.sk-label.fitted input.sk-toggleable__control:checked~label.sk-toggleable__label {\n",
       "  background-color: var(--sklearn-color-fitted-level-2);\n",
       "}\n",
       "\n",
       "/* Estimator-specific style */\n",
       "\n",
       "/* Colorize estimator box */\n",
       "#sk-container-id-1 div.sk-estimator input.sk-toggleable__control:checked~label.sk-toggleable__label {\n",
       "  /* unfitted */\n",
       "  background-color: var(--sklearn-color-unfitted-level-2);\n",
       "}\n",
       "\n",
       "#sk-container-id-1 div.sk-estimator.fitted input.sk-toggleable__control:checked~label.sk-toggleable__label {\n",
       "  /* fitted */\n",
       "  background-color: var(--sklearn-color-fitted-level-2);\n",
       "}\n",
       "\n",
       "#sk-container-id-1 div.sk-label label.sk-toggleable__label,\n",
       "#sk-container-id-1 div.sk-label label {\n",
       "  /* The background is the default theme color */\n",
       "  color: var(--sklearn-color-text-on-default-background);\n",
       "}\n",
       "\n",
       "/* On hover, darken the color of the background */\n",
       "#sk-container-id-1 div.sk-label:hover label.sk-toggleable__label {\n",
       "  color: var(--sklearn-color-text);\n",
       "  background-color: var(--sklearn-color-unfitted-level-2);\n",
       "}\n",
       "\n",
       "/* Label box, darken color on hover, fitted */\n",
       "#sk-container-id-1 div.sk-label.fitted:hover label.sk-toggleable__label.fitted {\n",
       "  color: var(--sklearn-color-text);\n",
       "  background-color: var(--sklearn-color-fitted-level-2);\n",
       "}\n",
       "\n",
       "/* Estimator label */\n",
       "\n",
       "#sk-container-id-1 div.sk-label label {\n",
       "  font-family: monospace;\n",
       "  font-weight: bold;\n",
       "  display: inline-block;\n",
       "  line-height: 1.2em;\n",
       "}\n",
       "\n",
       "#sk-container-id-1 div.sk-label-container {\n",
       "  text-align: center;\n",
       "}\n",
       "\n",
       "/* Estimator-specific */\n",
       "#sk-container-id-1 div.sk-estimator {\n",
       "  font-family: monospace;\n",
       "  border: 1px dotted var(--sklearn-color-border-box);\n",
       "  border-radius: 0.25em;\n",
       "  box-sizing: border-box;\n",
       "  margin-bottom: 0.5em;\n",
       "  /* unfitted */\n",
       "  background-color: var(--sklearn-color-unfitted-level-0);\n",
       "}\n",
       "\n",
       "#sk-container-id-1 div.sk-estimator.fitted {\n",
       "  /* fitted */\n",
       "  background-color: var(--sklearn-color-fitted-level-0);\n",
       "}\n",
       "\n",
       "/* on hover */\n",
       "#sk-container-id-1 div.sk-estimator:hover {\n",
       "  /* unfitted */\n",
       "  background-color: var(--sklearn-color-unfitted-level-2);\n",
       "}\n",
       "\n",
       "#sk-container-id-1 div.sk-estimator.fitted:hover {\n",
       "  /* fitted */\n",
       "  background-color: var(--sklearn-color-fitted-level-2);\n",
       "}\n",
       "\n",
       "/* Specification for estimator info (e.g. \"i\" and \"?\") */\n",
       "\n",
       "/* Common style for \"i\" and \"?\" */\n",
       "\n",
       ".sk-estimator-doc-link,\n",
       "a:link.sk-estimator-doc-link,\n",
       "a:visited.sk-estimator-doc-link {\n",
       "  float: right;\n",
       "  font-size: smaller;\n",
       "  line-height: 1em;\n",
       "  font-family: monospace;\n",
       "  background-color: var(--sklearn-color-background);\n",
       "  border-radius: 1em;\n",
       "  height: 1em;\n",
       "  width: 1em;\n",
       "  text-decoration: none !important;\n",
       "  margin-left: 1ex;\n",
       "  /* unfitted */\n",
       "  border: var(--sklearn-color-unfitted-level-1) 1pt solid;\n",
       "  color: var(--sklearn-color-unfitted-level-1);\n",
       "}\n",
       "\n",
       ".sk-estimator-doc-link.fitted,\n",
       "a:link.sk-estimator-doc-link.fitted,\n",
       "a:visited.sk-estimator-doc-link.fitted {\n",
       "  /* fitted */\n",
       "  border: var(--sklearn-color-fitted-level-1) 1pt solid;\n",
       "  color: var(--sklearn-color-fitted-level-1);\n",
       "}\n",
       "\n",
       "/* On hover */\n",
       "div.sk-estimator:hover .sk-estimator-doc-link:hover,\n",
       ".sk-estimator-doc-link:hover,\n",
       "div.sk-label-container:hover .sk-estimator-doc-link:hover,\n",
       ".sk-estimator-doc-link:hover {\n",
       "  /* unfitted */\n",
       "  background-color: var(--sklearn-color-unfitted-level-3);\n",
       "  color: var(--sklearn-color-background);\n",
       "  text-decoration: none;\n",
       "}\n",
       "\n",
       "div.sk-estimator.fitted:hover .sk-estimator-doc-link.fitted:hover,\n",
       ".sk-estimator-doc-link.fitted:hover,\n",
       "div.sk-label-container:hover .sk-estimator-doc-link.fitted:hover,\n",
       ".sk-estimator-doc-link.fitted:hover {\n",
       "  /* fitted */\n",
       "  background-color: var(--sklearn-color-fitted-level-3);\n",
       "  color: var(--sklearn-color-background);\n",
       "  text-decoration: none;\n",
       "}\n",
       "\n",
       "/* Span, style for the box shown on hovering the info icon */\n",
       ".sk-estimator-doc-link span {\n",
       "  display: none;\n",
       "  z-index: 9999;\n",
       "  position: relative;\n",
       "  font-weight: normal;\n",
       "  right: .2ex;\n",
       "  padding: .5ex;\n",
       "  margin: .5ex;\n",
       "  width: min-content;\n",
       "  min-width: 20ex;\n",
       "  max-width: 50ex;\n",
       "  color: var(--sklearn-color-text);\n",
       "  box-shadow: 2pt 2pt 4pt #999;\n",
       "  /* unfitted */\n",
       "  background: var(--sklearn-color-unfitted-level-0);\n",
       "  border: .5pt solid var(--sklearn-color-unfitted-level-3);\n",
       "}\n",
       "\n",
       ".sk-estimator-doc-link.fitted span {\n",
       "  /* fitted */\n",
       "  background: var(--sklearn-color-fitted-level-0);\n",
       "  border: var(--sklearn-color-fitted-level-3);\n",
       "}\n",
       "\n",
       ".sk-estimator-doc-link:hover span {\n",
       "  display: block;\n",
       "}\n",
       "\n",
       "/* \"?\"-specific style due to the `<a>` HTML tag */\n",
       "\n",
       "#sk-container-id-1 a.estimator_doc_link {\n",
       "  float: right;\n",
       "  font-size: 1rem;\n",
       "  line-height: 1em;\n",
       "  font-family: monospace;\n",
       "  background-color: var(--sklearn-color-background);\n",
       "  border-radius: 1rem;\n",
       "  height: 1rem;\n",
       "  width: 1rem;\n",
       "  text-decoration: none;\n",
       "  /* unfitted */\n",
       "  color: var(--sklearn-color-unfitted-level-1);\n",
       "  border: var(--sklearn-color-unfitted-level-1) 1pt solid;\n",
       "}\n",
       "\n",
       "#sk-container-id-1 a.estimator_doc_link.fitted {\n",
       "  /* fitted */\n",
       "  border: var(--sklearn-color-fitted-level-1) 1pt solid;\n",
       "  color: var(--sklearn-color-fitted-level-1);\n",
       "}\n",
       "\n",
       "/* On hover */\n",
       "#sk-container-id-1 a.estimator_doc_link:hover {\n",
       "  /* unfitted */\n",
       "  background-color: var(--sklearn-color-unfitted-level-3);\n",
       "  color: var(--sklearn-color-background);\n",
       "  text-decoration: none;\n",
       "}\n",
       "\n",
       "#sk-container-id-1 a.estimator_doc_link.fitted:hover {\n",
       "  /* fitted */\n",
       "  background-color: var(--sklearn-color-fitted-level-3);\n",
       "}\n",
       "</style><div id=\"sk-container-id-1\" class=\"sk-top-container\"><div class=\"sk-text-repr-fallback\"><pre>LogisticRegression(max_iter=200, n_jobs=-1, solver=&#x27;saga&#x27;)</pre><b>In a Jupyter environment, please rerun this cell to show the HTML representation or trust the notebook. <br />On GitHub, the HTML representation is unable to render, please try loading this page with nbviewer.org.</b></div><div class=\"sk-container\" hidden><div class=\"sk-item\"><div class=\"sk-estimator fitted sk-toggleable\"><input class=\"sk-toggleable__control sk-hidden--visually\" id=\"sk-estimator-id-1\" type=\"checkbox\" checked><label for=\"sk-estimator-id-1\" class=\"sk-toggleable__label fitted sk-toggleable__label-arrow fitted\">&nbsp;&nbsp;LogisticRegression<a class=\"sk-estimator-doc-link fitted\" rel=\"noreferrer\" target=\"_blank\" href=\"https://scikit-learn.org/1.4/modules/generated/sklearn.linear_model.LogisticRegression.html\">?<span>Documentation for LogisticRegression</span></a><span class=\"sk-estimator-doc-link fitted\">i<span>Fitted</span></span></label><div class=\"sk-toggleable__content fitted\"><pre>LogisticRegression(max_iter=200, n_jobs=-1, solver=&#x27;saga&#x27;)</pre></div> </div></div></div></div>"
      ],
      "text/plain": [
       "LogisticRegression(max_iter=200, n_jobs=-1, solver='saga')"
      ]
     },
     "execution_count": 50,
     "metadata": {},
     "output_type": "execute_result"
    }
   ],
   "source": [
    "# Train the Model\n",
    "print(\"Training Logistic Regression Model...\")\n",
    "logreg.fit(X_train, y_train)"
   ]
  },
  {
   "cell_type": "code",
   "execution_count": 51,
   "metadata": {
    "colab": {
     "base_uri": "https://localhost:8080/"
    },
    "id": "xP7Dh3QXuoBF",
    "outputId": "5f107c48-99b4-4abe-a549-f1aeaf9a91e3"
   },
   "outputs": [],
   "source": [
    "# Make Predictions\n",
    "\n",
    "y_pred = logreg.predict(X_test)"
   ]
  },
  {
   "cell_type": "code",
   "execution_count": 52,
   "metadata": {
    "colab": {
     "base_uri": "https://localhost:8080/"
    },
    "id": "TjB5MK0xun-u",
    "outputId": "f8db0cd8-d503-4deb-9e4d-79bced4daa2b"
   },
   "outputs": [
    {
     "name": "stdout",
     "output_type": "stream",
     "text": [
      "Evaluating Model Performance...\n",
      "Logistic Regression Report:\n",
      "              precision    recall  f1-score   support\n",
      "\n",
      "           0       0.69      0.49      0.58     63486\n",
      "           1       0.75      0.87      0.81    111049\n",
      "\n",
      "    accuracy                           0.73    174535\n",
      "   macro avg       0.72      0.68      0.69    174535\n",
      "weighted avg       0.73      0.73      0.72    174535\n",
      "\n"
     ]
    }
   ],
   "source": [
    "# Evaluate Logistic Regression Performance\n",
    "print(\"Evaluating Model Performance...\")\n",
    "print(\"Logistic Regression Report:\")\n",
    "print(classification_report(y_test, y_pred))"
   ]
  },
  {
   "cell_type": "code",
   "execution_count": 53,
   "metadata": {
    "colab": {
     "base_uri": "https://localhost:8080/"
    },
    "id": "mrkvXumtun8c",
    "outputId": "b44cbb1b-7a1b-49fa-d234-eeb8aca89ce6"
   },
   "outputs": [
    {
     "name": "stdout",
     "output_type": "stream",
     "text": [
      "Model Accuracy: 0.73\n"
     ]
    }
   ],
   "source": [
    "#Calculate Accuracy\n",
    "accuracy = accuracy_score(y_test, y_pred)\n",
    "print(f\"Model Accuracy: {accuracy:.2f}\")"
   ]
  },
  {
   "cell_type": "code",
   "execution_count": 54,
   "metadata": {
    "colab": {
     "base_uri": "https://localhost:8080/",
     "height": 410
    },
    "id": "pwr19euqun59",
    "outputId": "700c3777-e5b6-406d-b25d-54fd67dc31a7"
   },
   "outputs": [
    {
     "data": {
      "image/png": "[encoded data removed]",
      "text/plain": [
       "<Figure size 600x400 with 2 Axes>"
      ]
     },
     "metadata": {},
     "output_type": "display_data"
    }
   ],
   "source": [
    "# Confusion Matrix\n",
    "conf_matrix = confusion_matrix(y_test, y_pred)\n",
    "\n",
    "# Visualize Confusion Matrix\n",
    "plt.figure(figsize=(6, 4))\n",
    "sns.heatmap(\n",
    "    conf_matrix,\n",
    "    annot=True,\n",
    "    fmt='d',\n",
    "    cmap='Blues',\n",
    "    xticklabels=['Rotten', 'Fresh'],\n",
    "    yticklabels=['Rotten', 'Fresh']\n",
    ")\n",
    "plt.title(\"Confusion Matrix\")\n",
    "plt.xlabel(\"Predicted Labels\")\n",
    "plt.ylabel(\"True Labels\")\n",
    "plt.show()\n"
   ]
  },
  {
   "cell_type": "markdown",
   "metadata": {
    "id": "Ce8jPaOQ97I0"
   },
   "source": [
    "# Logistic Regression Model Training and Evaluation\n",
    "\n",
    "## 1. Initializing the Logistic Regression Model\n",
    "A **Logistic Regression** model was initialized with the following optimizations:\n",
    "- **max_iter=200**: The maximum number of iterations was set to 200, allowing the model to converge more effectively, especially for larger datasets.\n",
    "- **solver='saga'**: The 'saga' solver was chosen for faster convergence, particularly useful for large sparse datasets like the one being used.\n",
    "- **penalty='l2'**: L2 regularization was applied, which helps prevent overfitting by penalizing large coefficients.\n",
    "- **n_jobs=-1**: The model was configured to use all available CPU cores, speeding up the training process by enabling parallelization.\n",
    "\n",
    "## 2. Training the Logistic Regression Model\n",
    "The Logistic Regression model was trained on the **training data** (80% of the dataset) using the `fit` method. This process involved adjusting the model's internal parameters to minimize the error in predicting the sentiment of movie reviews.\n",
    "\n",
    "## 3. Making Predictions\n",
    "After training, predictions were made on the **test data** (20% of the dataset) using the `predict` method. This step generated predicted sentiment labels for the movie reviews in the test set.\n",
    "\n",
    "## 4. Evaluating Model Performance\n",
    "The performance of the Logistic Regression model was evaluated using the **classification report**, which includes several key metrics:\n",
    "\n",
    "### Logistic Regression Report:\n",
    "\n",
    "          precision    recall  f1-score   support\n",
    "\n",
    "       0       0.71      0.56      0.62     14192\n",
    "       1       0.76      0.86      0.80     23028\n",
    "\n",
    "accuracy                           0.74     37220\n",
    "\n",
    "\n",
    "## Interpretation of Evaluation Metrics\n",
    "\n",
    "### 1. **Precision**\n",
    "- **Precision for Class 0 (Rotten Reviews)**: 0.71\n",
    "  - Precision measures how many of the predicted \"Rotten\" reviews were actually \"Rotten.\" A precision of 0.71 means that 71% of the reviews predicted as \"Rotten\" were actually \"Rotten.\" This is a good indicator of the model's accuracy in predicting negative reviews.\n",
    "  \n",
    "- **Precision for Class 1 (Fresh Reviews)**: 0.76\n",
    "  - Precision measures how many of the predicted \"Fresh\" reviews were actually \"Fresh.\" A precision of 0.76 means that 76% of the reviews predicted as \"Fresh\" were correctly labeled as \"Fresh.\" This is a fairly high precision, indicating that the model is quite reliable in identifying positive reviews.\n",
    "\n",
    "### 2. **Recall**\n",
    "- **Recall for Class 0 (Rotten Reviews)**: 0.56\n",
    "  - Recall measures how many of the actual \"Rotten\" reviews were correctly identified by the model. A recall of 0.56 means that only 56% of the actual \"Rotten\" reviews were correctly predicted as \"Rotten.\" This indicates that the model is missing 44% of the \"Rotten\" reviews, which suggests there is room for improvement in the model's ability to detect negative reviews.\n",
    "  \n",
    "- **Recall for Class 1 (Fresh Reviews)**: 0.86\n",
    "  - Recall for class 1 indicates how many of the actual \"Fresh\" reviews were correctly classified. A recall of 0.86 means that 86% of the \"Fresh\" reviews were correctly identified. This is quite strong, showing that the model is effective at predicting positive reviews and capturing most of the positive sentiment in the reviews.\n",
    "\n",
    "### 3. **F1-Score**\n",
    "- **F1-Score for Class 0 (Rotten Reviews)**: 0.62\n",
    "  - The F1-score is the harmonic mean of precision and recall, and it is used to balance the trade-off between the two. For class 0, an F1-score of 0.62 means that while precision is decent, recall is relatively lower. This suggests the model is not as good at identifying \"Rotten\" reviews, resulting in a moderate F1-score.\n",
    "  \n",
    "- **F1-Score for Class 1 (Fresh Reviews)**: 0.80\n",
    "  - For class 1, the F1-score of 0.80 reflects the model’s strong performance in predicting positive reviews, balancing both precision and recall effectively. This means the model is particularly strong at classifying positive reviews accurately and consistently.\n",
    "\n",
    "### 4. **Accuracy**\n",
    "- **Overall Accuracy**: 0.74\n",
    "  - The accuracy of the model is 74%, which means that 74% of all the test data was correctly classified. Although this indicates that the model performs reasonably well overall, it’s important to consider that accuracy alone can be misleading, especially in cases of class imbalance (as seen here with more positive reviews than negative ones).\n",
    "\n",
    "### 5. **Macro Average**\n",
    "- **Macro Average Precision**: 0.73\n",
    "  - This is the average precision across both classes, treating each class equally. A macro average precision of 0.73 indicates that the model is fairly good at distinguishing between both classes.\n",
    "  \n",
    "- **Macro Average Recall**: 0.71\n",
    "  - The macro average recall of 0.71 indicates that, on average, the model correctly identifies 71% of instances across both classes. The model has better recall for class 1 (positive reviews) than class 0 (negative reviews), which is reflected in the difference between the recall scores for each class.\n",
    "\n",
    "- **Macro Average F1-Score**: 0.71\n",
    "  - The macro average F1-score of 0.71 suggests a balanced performance between precision and recall across both classes.\n",
    "\n",
    "### 6. **Weighted Average**\n",
    "- **Weighted Average Precision**: 0.74\n",
    "  - This is the average precision across both classes, weighted by the number of instances in each class. Since there are more \"Fresh\" reviews (class 1) than \"Rotten\" reviews (class 0), this metric is weighted more heavily toward class 1. The precision of 0.74 reflects the model’s overall ability to classify reviews correctly, with a slight bias toward class 1.\n",
    "\n",
    "- **Weighted Average Recall**: 0.74\n",
    "  - The weighted average recall of 0.74 means that, on average, the model correctly identifies 74% of the actual reviews across both classes. Again, this is a higher recall for class 1 due to the class imbalance.\n",
    "\n",
    "- **Weighted Average F1-Score**: 0.74\n",
    "  - The weighted average F1-score of 0.74 reflects the model’s overall performance in balancing precision and recall across both classes, with better performance in identifying positive reviews.\n",
    "\n",
    "### 7. **Confusion Matrix Interpretation**\n",
    "From the confusion matrix:\n",
    "- **True Positives (Fresh predicted as Fresh)**: 19,714\n",
    "  - The model correctly predicted 19,714 positive (Fresh) reviews as Fresh.\n",
    "  \n",
    "- **True Negatives (Rotten predicted as Rotten)**: 7,933\n",
    "  - The model correctly predicted 7,933 negative (Rotten) reviews as Rotten.\n",
    "  \n",
    "- **False Positives (Rotten predicted as Fresh)**: 6,259\n",
    "  - The model incorrectly predicted 6,259 negative (Rotten) reviews as Fresh. This represents a type of error where the model incorrectly identified negative reviews as positive.\n",
    "  \n",
    "- **False Negatives (Fresh predicted as Rotten)**: 3,314\n",
    "  - The model incorrectly predicted 3,314 positive (Fresh) reviews as Rotten. This is another type of error, where positive reviews were misclassified as negative.\n",
    "\n",
    "### Conclusion\n",
    "The Logistic Regression model demonstrates reasonably good performance, especially in predicting positive (Fresh) reviews, where it achieves high recall and F1-score. However, its performance on negative (Rotten) reviews is weaker, with lower recall and F1-score. The model also seems to have some difficulty in avoiding false positives and false negatives, particularly with the \"Rotten\" reviews. Despite these shortcomings, the model's overall accuracy and the confusion matrix suggest it could be useful in identifying positive reviews but might need further optimization for detecting negative reviews effectively.\n"
   ]
  },
  {
   "cell_type": "markdown",
   "metadata": {
    "id": "f05Gsm20zM1A"
   },
   "source": [
    "#### 6. Compare and Analyze Results"
   ]
  },
  {
   "cell_type": "code",
   "execution_count": 57,
   "metadata": {
    "id": "2B1nXpnuyVoN"
   },
   "outputs": [],
   "source": [
    "# Aggregate Performance Metrics\n",
    "vader_accuracy = accuracy_score(df['review_type'], df['vader_pred'])\n",
    "logreg_accuracy = accuracy_score(y_test, y_pred)"
   ]
  },
  {
   "cell_type": "code",
   "execution_count": 58,
   "metadata": {
    "colab": {
     "base_uri": "https://localhost:8080/"
    },
    "id": "N4s64QSFyVlm",
    "outputId": "857ad353-8d65-4887-cf92-d2e62994217f"
   },
   "outputs": [
    {
     "name": "stdout",
     "output_type": "stream",
     "text": [
      "VADER Accuracy: 0.64\n",
      "Logistic Regression Accuracy: 0.73\n"
     ]
    }
   ],
   "source": [
    "print(f\"VADER Accuracy: {vader_accuracy:.2f}\")\n",
    "print(f\"Logistic Regression Accuracy: {logreg_accuracy:.2f}\")"
   ]
  },
  {
   "cell_type": "markdown",
   "metadata": {
    "id": "M1WwzpggzVxR"
   },
   "source": [
    "#### Comparison of VADER and Logistic Regression"
   ]
  },
  {
   "cell_type": "code",
   "execution_count": 60,
   "metadata": {
    "id": "C0Cd7hSOzTi5"
   },
   "outputs": [],
   "source": [
    "from sklearn.metrics import precision_score, recall_score, f1_score\n",
    "import pandas as pd\n",
    "import matplotlib.pyplot as plt\n",
    "import seaborn as sns"
   ]
  },
  {
   "cell_type": "code",
   "execution_count": 61,
   "metadata": {
    "id": "5pY57dJNzboT"
   },
   "outputs": [],
   "source": [
    "# Compute Performance Metrics for VADER\n",
    "vader_metrics = {\n",
    "    'Accuracy': accuracy_score(df['review_type'], df['vader_pred']),\n",
    "    'Precision': precision_score(df['review_type'], df['vader_pred']),\n",
    "    'Recall': recall_score(df['review_type'], df['vader_pred']),\n",
    "    'F1-Score': f1_score(df['review_type'], df['vader_pred']),\n",
    "}"
   ]
  },
  {
   "cell_type": "code",
   "execution_count": 62,
   "metadata": {
    "id": "3l6-WfmBzblq"
   },
   "outputs": [],
   "source": [
    "# Compute Performance Metrics for Logistic Regression\n",
    "logreg_metrics = {\n",
    "    'Accuracy': accuracy_score(y_test, y_pred),\n",
    "    'Precision': precision_score(y_test, y_pred),\n",
    "    'Recall': recall_score(y_test, y_pred),\n",
    "    'F1-Score': f1_score(y_test, y_pred),\n",
    "}"
   ]
  },
  {
   "cell_type": "code",
   "execution_count": 63,
   "metadata": {
    "id": "uJtaTQtfzbjP"
   },
   "outputs": [],
   "source": [
    "# Combine Results into a DataFrame\n",
    "results_df = pd.DataFrame([vader_metrics, logreg_metrics], index=['VADER', 'Logistic Regression'])"
   ]
  },
  {
   "cell_type": "code",
   "execution_count": 64,
   "metadata": {
    "colab": {
     "base_uri": "https://localhost:8080/"
    },
    "id": "7_gq9-fbzbgf",
    "outputId": "7a3c06fa-4008-4591-dff9-9bd45862b525"
   },
   "outputs": [
    {
     "name": "stdout",
     "output_type": "stream",
     "text": [
      "Comparison of VADER and Logistic Regression Performance Metrics:\n",
      "                     Accuracy  Precision    Recall  F1-Score\n",
      "VADER                0.639586   0.677943  0.825871  0.744631\n",
      "Logistic Regression  0.734632   0.751014  0.872029  0.807010\n"
     ]
    }
   ],
   "source": [
    "# Display Results as a Table\n",
    "print(\"Comparison of VADER and Logistic Regression Performance Metrics:\")\n",
    "print(results_df)"
   ]
  },
  {
   "cell_type": "code",
   "execution_count": 65,
   "metadata": {
    "colab": {
     "base_uri": "https://localhost:8080/",
     "height": 607
    },
    "id": "AxZ32NFtzbbC",
    "outputId": "1e9db6e5-ca1e-4152-c637-ac65d8e27a33"
   },
   "outputs": [
    {
     "data": {
      "image/png": "[encoded data removed]",
      "text/plain": [
       "<Figure size 1000x600 with 1 Axes>"
      ]
     },
     "metadata": {},
     "output_type": "display_data"
    }
   ],
   "source": [
    "# Plot Results for Better Visualization\n",
    "ax = results_df.T.plot(kind='bar', figsize=(10, 6), color=['skyblue', 'orange'], edgecolor='black')\n",
    "\n",
    "# Add Custom Legend\n",
    "ax.legend(['VADER', 'Logistic Regression'], title=\"Models\", fontsize=10)\n",
    "\n",
    "# Plot Customization\n",
    "plt.title(\"Performance Comparison: VADER vs Logistic Regression\", fontsize=14)\n",
    "plt.xlabel(\"Metrics\", fontsize=12)\n",
    "plt.ylabel(\"Scores\", fontsize=12)\n",
    "plt.xticks(rotation=0, fontsize=10)\n",
    "plt.grid(axis='y', linestyle='--', alpha=0.7)\n",
    "plt.tight_layout()\n",
    "\n",
    "# Show Plot\n",
    "plt.show()\n",
    "\n"
   ]
  },
  {
   "cell_type": "code",
   "execution_count": 114,
   "metadata": {},
   "outputs": [
    {
     "data": {
      "image/png": "[encoded data removed]",
      "text/plain": [
       "<Figure size 800x600 with 2 Axes>"
      ]
     },
     "metadata": {},
     "output_type": "display_data"
    }
   ],
   "source": [
    "import seaborn as sns\n",
    "import matplotlib.pyplot as plt\n",
    "import pandas as pd\n",
    "\n",
    "# Create a DataFrame from the metrics\n",
    "metrics_df = pd.DataFrame([vader_metrics, logreg_metrics], \n",
    "                          index=['VADER', 'Logistic Regression'])\n",
    "\n",
    "# Create the heatmap\n",
    "plt.figure(figsize=(8, 6))\n",
    "sns.heatmap(metrics_df, annot=True, cmap='coolwarm', fmt='.2f', linewidths=0.5)\n",
    "\n",
    "# Customize the plot\n",
    "plt.title(\"Performance Metrics Comparison: Heatmap\", fontsize=14)\n",
    "plt.tight_layout()\n",
    "plt.show()\n"
   ]
  },
  {
   "cell_type": "code",
   "execution_count": 116,
   "metadata": {},
   "outputs": [
    {
     "data": {
      "text/plain": [
       "<Figure size 1000x600 with 0 Axes>"
      ]
     },
     "metadata": {},
     "output_type": "display_data"
    },
    {
     "data": {
      "image/png": "[encoded data removed]",
      "text/plain": [
       "<Figure size 1000x600 with 1 Axes>"
      ]
     },
     "metadata": {},
     "output_type": "display_data"
    }
   ],
   "source": [
    "import matplotlib.pyplot as plt\n",
    "import pandas as pd\n",
    "\n",
    "# Create a DataFrame for the stacked bar chart\n",
    "metrics_df = pd.DataFrame({\n",
    "    'Metric': ['Accuracy', 'Precision', 'Recall', 'F1-Score'],\n",
    "    'VADER': list(vader_metrics.values()),\n",
    "    'Logistic Regression': list(logreg_metrics.values())\n",
    "    \n",
    "})\n",
    "\n",
    "# Plot the stacked bar chart\n",
    "plt.figure(figsize=(10, 6))\n",
    "metrics_df.set_index('Metric').T.plot(kind='bar', stacked=True, figsize=(10, 6))\n",
    "\n",
    "# Customize the plot\n",
    "plt.title(\"Performance Metrics Comparison: Stacked Bar Chart\", fontsize=14)\n",
    "plt.xlabel(\"Model\", fontsize=12)\n",
    "plt.ylabel(\"Score\", fontsize=12)\n",
    "plt.xticks(rotation=0)\n",
    "plt.tight_layout()\n",
    "plt.show()"
   ]
  },
  {
   "cell_type": "markdown",
   "metadata": {
    "id": "ZmB24FEy__-A"
   },
   "source": [
    "## Performance Comparison: VADER vs Logistic Regression\n",
    "\n",
    "### 1. **Model Accuracy**\n",
    "- **VADER Accuracy**: 0.64\n",
    "  - VADER achieved an accuracy of 64%. This indicates that the VADER model correctly predicted 64% of the reviews in the dataset. While this is a fair baseline, it shows room for improvement.\n",
    "  \n",
    "- **Logistic Regression Accuracy**: 0.74\n",
    "  - Logistic Regression achieved a higher accuracy of 74%, meaning it correctly classified 74% of the reviews in the testing dataset. This indicates that the Logistic Regression model outperforms VADER in terms of overall accuracy.\n",
    "\n",
    "### 2. **Performance Metrics Comparison**\n",
    "\n",
    "| **Model**             | **Accuracy** | **Precision** | **Recall** | **F1-Score** |\n",
    "|-----------------------|--------------|---------------|------------|--------------|\n",
    "| **VADER**             | 0.64         | 0.67          | 0.82       | 0.74         |\n",
    "| **Logistic Regression**| 0.74         | 0.76          | 0.86       | 0.80         |\n",
    "\n",
    "- **Precision**:\n",
    "  - **VADER**: 0.67 precision for classifying positive reviews (Fresh).\n",
    "  - **Logistic Regression**: 0.76 precision for positive reviews, showing a better ability to identify true positives.\n",
    "  \n",
    "- **Recall**:\n",
    "  - **VADER**: 0.82 recall for Fresh reviews, meaning it successfully captured 82% of the actual positive reviews.\n",
    "  - **Logistic Regression**: 0.86 recall for Fresh reviews, outperforms VADER in capturing a higher proportion of the actual Fresh reviews.\n",
    "  \n",
    "- **F1-Score**:\n",
    "  - **VADER**: 0.74 F1-score, a balance of precision and recall for Fresh reviews.\n",
    "  - **Logistic Regression**: 0.80 F1-score, indicating stronger overall performance with a better balance between precision and recall.\n",
    "\n",
    "### 3. **Visualization of Results**\n",
    "\n",
    "The bar chart compares the performance of two models, **VADER** and **Logistic Regression**, across four different metrics: **Accuracy**, **Precision**, **Recall**, and **F1-Score**. The chart uses **blue** bars to represent **VADER** and **orange** bars to represent **Logistic Regression**. The y-axis shows the scores, ranging from 0.0 to 0.8, and the x-axis lists the metrics.\n",
    "\n",
    "The chart indicates that **Logistic Regression** outperforms **VADER** in all four metrics:\n",
    "\n",
    "- **Accuracy**: Logistic Regression has a higher score compared to VADER.\n",
    "- **Precision**: Logistic Regression has a higher score compared to VADER.\n",
    "- **Recall**: Logistic Regression significantly outperforms VADER.\n",
    "- **F1-Score**: Logistic Regression scores higher than VADER.\n",
    "\n",
    "This visual comparison effectively highlights the superior performance of **Logistic Regression** over **VADER**, making it useful for selecting the appropriate model for a specific task.\n",
    "\n",
    "\n",
    "\n",
    "### 4. **Conclusion**\n",
    "\n",
    "- **Logistic Regression** outperforms **VADER** in terms of overall **accuracy**, **precision**, **recall**, and **F1-score**.\n",
    "- **Logistic Regression** has a higher ability to identify both \"Fresh\" and \"Rotten\" reviews accurately.\n",
    "- **VADER**, on the other hand, shows a slightly higher recall for \"Fresh\" reviews but struggles with precision.\n",
    "- **VADER** is useful as a sentiment analysis baseline model, especially when the dataset is smaller or speed is a priority.\n",
    "\n",
    "Based on these results, **Logistic Regression** is the better model for review classification tasks, as it provides a better balance of precision, recall, and overall accuracy. It is more reliable for situations where accuracy is critical.\n",
    "\n",
    "### 5. **Final Thoughts**\n",
    "\n",
    "- **Logistic Regression** provides a more robust performance for classifying reviews compared to **VADER**.\n",
    "- **VADER** shows a slightly higher recall for \"Fresh\" reviews but at the cost of precision, which results in a lower overall accuracy and F1-score.\n",
    "- **Logistic Regression**'s superior precision and recall make it a stronger candidate for this classification task, although **VADER** can still be a quick and reasonable option in less complex scenarios or when working with limited data.\n"
   ]
  },
  {
   "cell_type": "code",
   "execution_count": null,
   "metadata": {
    "id": "YG8S8oFJzbWb"
   },
   "outputs": [],
   "source": []
  },
  {
   "cell_type": "code",
   "execution_count": null,
   "metadata": {
    "id": "3s-bnTpwzbS_"
   },
   "outputs": [],
   "source": []
  }
 ],
 "metadata": {
  "colab": {
   "provenance": []
  },
  "kernelspec": {
   "display_name": "Python 3",
   "language": "python",
   "name": "python3"
  },
  "language_info": {
   "codemirror_mode": {
    "name": "ipython",
    "version": 3
   },
   "file_extension": ".py",
   "mimetype": "text/x-python",
   "name": "python",
   "nbconvert_exporter": "python",
   "pygments_lexer": "ipython3",
   "version": "3.11.5"
  }
 },
 "nbformat": 4,
 "nbformat_minor": 4
}
